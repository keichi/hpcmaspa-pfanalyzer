{
 "cells": [
  {
   "cell_type": "code",
   "execution_count": 1,
   "metadata": {},
   "outputs": [],
   "source": [
    "%matplotlib inline\n",
    "import matplotlib.pyplot as plt\n",
    "import numpy as np\n",
    "import seaborn as sns\n",
    "\n",
    "sns.set(context=\"paper\", rc={\n",
    "    \"font.size\": 10,\n",
    "    \"ps.useafm\": True,\n",
    "    \"pdf.use14corefonts\": True,\n",
    "    \"text.usetex\": True,\n",
    "    \"text.latex.preamble\": \"\\\\usepackage{sfmath}\"\n",
    "})\n",
    "\n",
    "w = 3.487\n",
    "h = w / 1.618"
   ]
  },
  {
   "cell_type": "code",
   "execution_count": 2,
   "metadata": {
    "scrolled": false
   },
   "outputs": [
    {
     "name": "stdout",
     "output_type": "stream",
     "text": [
      "PDFCROP 1.38, 2012/11/02 - Copyright (c) 2002-2012 by Heiko Oberdiek.\n",
      "==> 1 page written on `bandwidth_overhead-crop.pdf'.\n"
     ]
    },
    {
     "data": {
      "image/png": "[encoded data removed]",
      "text/plain": [
       "<matplotlib.figure.Figure at 0x116750128>"
      ]
     },
     "metadata": {},
     "output_type": "display_data"
    }
   ],
   "source": [
    "data = np.loadtxt(\"liboxton_bandwidth.csv\", delimiter=\",\", skiprows=1)\n",
    "\n",
    "fig, ax1 = plt.subplots()\n",
    "fig.subplots_adjust(left=.13, bottom=.20, right=.88, top=.97)\n",
    "ax2 = ax1.twinx()\n",
    "\n",
    "ax2.yaxis.tick_left()\n",
    "ax2.yaxis.set_label_position(\"left\")\n",
    "ax2.set_ylabel(\"Throughput [MB/s]\")\n",
    "ax2.set_xscale(\"log\")\n",
    "ax2.set_yscale(\"log\")\n",
    "\n",
    "pal = sns.color_palette()\n",
    "\n",
    "ax2.plot(data[:,0], data[:,2], color=pal[0], ls=\"--\", marker=\".\", label=\"w/o profiler\")\n",
    "ax2.plot(data[:,0], data[:,1], color=pal[2], marker=\"X\", label=\"w/ profiler\")\n",
    "ax2.legend(frameon=True, loc=\"lower right\")\n",
    "ax2.grid(False)\n",
    "\n",
    "ax1.yaxis.tick_right()\n",
    "ax1.yaxis.set_label_position(\"right\")\n",
    "ax1.set_ylabel(\"Relative Throughput\")\n",
    "ax1.set_yscale(\"linear\")\n",
    "ax1.set_ylim((0,1.1))\n",
    "ax1.set_xlabel(\"Message Size [B]\")\n",
    "\n",
    "width = 6e-2\n",
    "x = data[:,0]\n",
    "y = data[:,2] / data[:,1]\n",
    "\n",
    "for i in range(len(x)):\n",
    "    ax1.fill([10**(np.log10(x[i])-width), 10**(np.log10(x[i])-width), 10**(np.log10(x[i])+width), 10**(np.log10(x[i])+width)],\n",
    "                 [0, y[i], y[i], 0],\n",
    "                 color=\"k\", alpha=0.3, zorder=10)\n",
    "\n",
    "fig.set_size_inches(w, h)\n",
    "fig.savefig(\"bandwidth_overhead.pdf\")\n",
    "\n",
    "!pdfcrop bandwidth_overhead.pdf\n",
    "!mv bandwidth_overhead-crop.pdf bandwidth_overhead.pdf"
   ]
  },
  {
   "cell_type": "code",
   "execution_count": 3,
   "metadata": {
    "scrolled": true
   },
   "outputs": [
    {
     "name": "stdout",
     "output_type": "stream",
     "text": [
      "PDFCROP 1.38, 2012/11/02 - Copyright (c) 2002-2012 by Heiko Oberdiek.\n",
      "==> 1 page written on `latency_overhead-crop.pdf'.\n"
     ]
    },
    {
     "data": {
      "image/png": "[encoded data removed]",
      "text/plain": [
       "<matplotlib.figure.Figure at 0x11796bc50>"
      ]
     },
     "metadata": {},
     "output_type": "display_data"
    }
   ],
   "source": [
    "data = np.loadtxt(\"liboxton_latency.csv\", delimiter=\",\", skiprows=1)\n",
    "\n",
    "fig, ax1 = plt.subplots()\n",
    "fig.subplots_adjust(left=.13, bottom=.20, right=.88, top=.97)\n",
    "ax2 = ax1.twinx()\n",
    "\n",
    "ax2.yaxis.tick_left()\n",
    "ax2.yaxis.set_label_position(\"left\")\n",
    "ax2.set_ylabel(\"Latency [$\\mu s$]\")\n",
    "ax2.set_xscale(\"log\")\n",
    "ax2.set_yscale(\"log\")\n",
    "\n",
    "pal = sns.color_palette()\n",
    "\n",
    "ax2.plot(data[:,0], data[:,2], color=pal[0], ls=\"--\", marker=\".\", label=\"w/o profiler\")\n",
    "ax2.plot(data[:,0], data[:,1], color=pal[2], marker=\"X\", label=\"w/ profiler\")\n",
    "ax2.legend(frameon=True, loc=\"lower right\")\n",
    "ax2.grid(False)\n",
    "\n",
    "ax1.yaxis.tick_right()\n",
    "ax1.yaxis.set_label_position(\"right\")\n",
    "ax1.set_xlabel(\"Message Size [B]\")\n",
    "ax1.set_ylabel(\"Relative Latency\")\n",
    "ax1.set_yscale(\"linear\")\n",
    "ax1.set_ylim((0,1.3))\n",
    "\n",
    "width = 6e-2\n",
    "x = data[1:,0]\n",
    "y = data[1:,2] / data[1:,1]\n",
    "\n",
    "for i in range(len(x)):\n",
    "    ax1.fill([10**(np.log10(x[i])-width), 10**(np.log10(x[i])-width), 10**(np.log10(x[i])+width), 10**(np.log10(x[i])+width)],\n",
    "                 [0, y[i], y[i], 0],\n",
    "                 color=\"k\", alpha=0.3)\n",
    "    \n",
    "fig.set_size_inches(w, h)\n",
    "fig.savefig(\"latency_overhead.pdf\")\n",
    "\n",
    "!pdfcrop latency_overhead.pdf\n",
    "!mv latency_overhead-crop.pdf latency_overhead.pdf"
   ]
  },
  {
   "cell_type": "code",
   "execution_count": 4,
   "metadata": {
    "scrolled": true
   },
   "outputs": [
    {
     "name": "stdout",
     "output_type": "stream",
     "text": [
      "PDFCROP 1.38, 2012/11/02 - Copyright (c) 2002-2012 by Heiko Oberdiek.\n",
      "==> 1 page written on `nas_cg_execution_time-crop.pdf'.\n"
     ]
    },
    {
     "data": {
      "image/png": "[encoded data removed]",
      "text/plain": [
       "<matplotlib.figure.Figure at 0x111c513c8>"
      ]
     },
     "metadata": {},
     "output_type": "display_data"
    }
   ],
   "source": [
    "pal = sns.color_palette()\n",
    "\n",
    "data = np.loadtxt(\"nas_cg_time.csv\", delimiter=\",\", skiprows=1)\n",
    "data = data.transpose()[1:]\n",
    "avgs = np.average(data, axis=1)\n",
    "errs = np.std(data, axis=1)\n",
    "\n",
    "fig, ax = plt.subplots()\n",
    "fig.subplots_adjust(left=.27, bottom=.15, right=.97, top=.97)\n",
    "bars = ax.bar(np.arange(avgs.size), avgs, tick_label=[\"DmodK\", \"Dynamic\"], yerr=errs)\n",
    "bars[0].set_color(pal[0])\n",
    "bars[1].set_color(pal[2])\n",
    "ax.set_ylabel(\"Execution Time [s]\")\n",
    "\n",
    "fig.set_size_inches(w / 2 - 0.1, h)\n",
    "fig.savefig(\"nas_cg_execution_time.pdf\")\n",
    "\n",
    "!pdfcrop nas_cg_execution_time.pdf\n",
    "!mv nas_cg_execution_time-crop.pdf nas_cg_execution_time.pdf"
   ]
  },
  {
   "cell_type": "code",
   "execution_count": 5,
   "metadata": {},
   "outputs": [
    {
     "name": "stdout",
     "output_type": "stream",
     "text": [
      "PDFCROP 1.38, 2012/11/02 - Copyright (c) 2002-2012 by Heiko Oberdiek.\n",
      "==> 1 page written on `nersc_milc_execution_time-crop.pdf'.\n"
     ]
    },
    {
     "data": {
      "image/png": "[encoded data removed]",
      "text/plain": [
       "<matplotlib.figure.Figure at 0x1174e6780>"
      ]
     },
     "metadata": {},
     "output_type": "display_data"
    }
   ],
   "source": [
    "data = np.loadtxt(\"nersc_milc_time.csv\", delimiter=\",\", skiprows=1)\n",
    "data = data.transpose()[1:]\n",
    "avgs = np.average(data, axis=1)\n",
    "errs = np.std(data, axis=1)\n",
    "\n",
    "fig, ax = plt.subplots()\n",
    "fig.subplots_adjust(left=.27, bottom=.15, right=.97, top=.97)\n",
    "bars = ax.bar(np.arange(avgs.size), avgs, tick_label=[\"DmodK\", \"Dynamic\"], yerr=errs)\n",
    "bars[0].set_color(pal[0])\n",
    "bars[1].set_color(pal[2])\n",
    "ax.set_ylabel(\"Execution Time [s]\")\n",
    "\n",
    "fig.set_size_inches(w / 2 - 0.1, h)\n",
    "fig.savefig(\"nersc_milc_execution_time.pdf\")\n",
    "\n",
    "!pdfcrop nersc_milc_execution_time.pdf\n",
    "!mv nersc_milc_execution_time-crop.pdf nersc_milc_execution_time.pdf"
   ]
  },
  {
   "cell_type": "code",
   "execution_count": 6,
   "metadata": {},
   "outputs": [
    {
     "name": "stdout",
     "output_type": "stream",
     "text": [
      "PDFCROP 1.38, 2012/11/02 - Copyright (c) 2002-2012 by Heiko Oberdiek.\n",
      "==> 1 page written on `nas_cg_congestion-crop.pdf'.\n"
     ]
    },
    {
     "data": {
      "image/png": "[encoded data removed]",
      "text/plain": [
       "<matplotlib.figure.Figure at 0x116748e80>"
      ]
     },
     "metadata": {},
     "output_type": "display_data"
    }
   ],
   "source": [
    "pal = sns.color_palette()\n",
    "\n",
    "x = np.arange(2)\n",
    "y= np.array([1, 0.500022154])\n",
    "\n",
    "fig, ax = plt.subplots()\n",
    "fig.subplots_adjust(left=.27, bottom=.15, right=.97, top=.97)\n",
    "bars = ax.bar(x, y, tick_label=[\"DmodK\", \"Dynamic\"])\n",
    "bars[0].set_color(pal[0])\n",
    "bars[1].set_color(pal[2])\n",
    "ax.set_ylabel(\"Maximum Traffic (Normalized)\")\n",
    "\n",
    "fig.set_size_inches(w / 2 - 0.1, h)\n",
    "fig.savefig(\"nas_cg_congestion.pdf\")\n",
    "\n",
    "!pdfcrop nas_cg_congestion.pdf\n",
    "!mv nas_cg_congestion-crop.pdf nas_cg_congestion.pdf"
   ]
  },
  {
   "cell_type": "code",
   "execution_count": 7,
   "metadata": {},
   "outputs": [
    {
     "name": "stdout",
     "output_type": "stream",
     "text": [
      "PDFCROP 1.38, 2012/11/02 - Copyright (c) 2002-2012 by Heiko Oberdiek.\n",
      "==> 1 page written on `nersc_milc_congestion-crop.pdf'.\n"
     ]
    },
    {
     "data": {
      "image/png": "[encoded data removed]",
      "text/plain": [
       "<matplotlib.figure.Figure at 0x116748c18>"
      ]
     },
     "metadata": {},
     "output_type": "display_data"
    }
   ],
   "source": [
    "pal = sns.color_palette()\n",
    "\n",
    "x = np.arange(2)\n",
    "y= np.array([1, 0.824892101])\n",
    "\n",
    "fig, ax = plt.subplots()\n",
    "fig.subplots_adjust(left=.27, bottom=.15, right=.97, top=.97)\n",
    "bars = ax.bar(x, y, tick_label=[\"DmodK\", \"Dynamic\"])\n",
    "bars[0].set_color(pal[0])\n",
    "bars[1].set_color(pal[2])\n",
    "ax.set_ylabel(\"Maximum Traffic (Normalized)\")\n",
    "\n",
    "fig.set_size_inches(w / 2 - 0.1, h)\n",
    "fig.savefig(\"nersc_milc_congestion.pdf\")\n",
    "\n",
    "!pdfcrop nersc_milc_congestion.pdf\n",
    "!mv nersc_milc_congestion-crop.pdf nersc_milc_congestion.pdf"
   ]
  },
  {
   "cell_type": "code",
   "execution_count": 8,
   "metadata": {
    "scrolled": false
   },
   "outputs": [
    {
     "name": "stdout",
     "output_type": "stream",
     "text": [
      "PDFCROP 1.38, 2012/11/02 - Copyright (c) 2002-2012 by Heiko Oberdiek.\n",
      "==> 1 page written on `nas_cg_multi_congestion-crop.pdf'.\n"
     ]
    },
    {
     "data": {
      "image/png": "[encoded data removed]",
      "text/plain": [
       "<matplotlib.figure.Figure at 0x118b6b400>"
      ]
     },
     "metadata": {},
     "output_type": "display_data"
    }
   ],
   "source": [
    "pal = sns.color_palette()\n",
    "\n",
    "y = np.array([1,\n",
    "                        0.500022154,\n",
    "                        1.975045414,\n",
    "                        1.750011088,\n",
    "                        0.703004215,\n",
    "                        0.46086997,\n",
    "                        2.420460534,\n",
    "                        1.590722326])\n",
    "x = np.arange(y.size)\n",
    "\n",
    "fig, ax = plt.subplots()\n",
    "fig.subplots_adjust(left=.25, bottom=.3, right=.97, top=.97)\n",
    "\n",
    "bars = ax.bar(x, y)\n",
    "ax.set_xticks(x)\n",
    "ax.set_xticklabels([\"Linear/Block/DmodK\",\n",
    "                                  \"Linear/Block/Dynamic\",\n",
    "                                  \"Linear/Cyclic/DmodK\",\n",
    "                                  \"Linear/Cyclic/Dynamic\",\n",
    "                                  \"Random/Block/DmodK\",\n",
    "                                  \"Random/Block/Dynamic\",\n",
    "                                  \"Random/Cyclic/DmodK\",\n",
    "                                  \"Random/Cyclic/Dynamic\"],\n",
    "                                 rotation=30, ha=\"right\")\n",
    "\n",
    "for i, bar in enumerate(bars):\n",
    "    if i % 2 == 0:\n",
    "        bar.set_color(pal[0])\n",
    "    else:\n",
    "        bar.set_color(pal[2])\n",
    "        \n",
    "ax.set_ylabel(\"Maximum Traffic (Normalized)\")\n",
    "        \n",
    "fig.set_size_inches(w, h+.5)\n",
    "fig.savefig(\"nas_cg_multi_congestion.pdf\")\n",
    "\n",
    "!pdfcrop nas_cg_multi_congestion.pdf\n",
    "!mv nas_cg_multi_congestion-crop.pdf nas_cg_multi_congestion.pdf"
   ]
  },
  {
   "cell_type": "code",
   "execution_count": 9,
   "metadata": {},
   "outputs": [
    {
     "name": "stdout",
     "output_type": "stream",
     "text": [
      "PDFCROP 1.38, 2012/11/02 - Copyright (c) 2002-2012 by Heiko Oberdiek.\n",
      "==> 1 page written on `nersc_milc_multi_congestion-crop.pdf'.\n"
     ]
    },
    {
     "data": {
      "image/png": "[encoded data removed]",
      "text/plain": [
       "<matplotlib.figure.Figure at 0x11731d4a8>"
      ]
     },
     "metadata": {},
     "output_type": "display_data"
    }
   ],
   "source": [
    "pal = sns.color_palette()\n",
    "\n",
    "y = np.array([1,\n",
    "                        0.824892101,\n",
    "                        1.249268351,\n",
    "                        1.054598915,\n",
    "                        1.19256909,\n",
    "                        0.784385877,\n",
    "                        1.536461727,\n",
    "                        0.976017107])\n",
    "x = np.arange(y.size)\n",
    "\n",
    "fig, ax = plt.subplots()\n",
    "fig.subplots_adjust(left=.27, bottom=.3, right=.97, top=.97)\n",
    "\n",
    "bars = ax.bar(x, y)\n",
    "ax.set_xticks(x)\n",
    "ax.set_xticklabels([\"Linear/Block/DmodK\",\n",
    "                                  \"Linear/Block/Dynamic\",\n",
    "                                  \"Linear/Cyclic/DmodK\",\n",
    "                                  \"Linear/Cyclic/Dynamic\",\n",
    "                                  \"Random/Block/DmodK\",\n",
    "                                  \"Random/Block/Dynamic\",\n",
    "                                  \"Random/Cyclic/DmodK\",\n",
    "                                  \"Random/Cyclic/Dynamic\"],\n",
    "                                 rotation=30, ha=\"right\")\n",
    "\n",
    "for i, bar in enumerate(bars):\n",
    "    if i % 2 == 0:\n",
    "        bar.set_color(pal[0])\n",
    "    else:\n",
    "        bar.set_color(pal[2])\n",
    "        \n",
    "ax.set_ylabel(\"Maximum Traffic (Normalized)\")\n",
    "        \n",
    "fig.set_size_inches(w, h+.5)\n",
    "fig.savefig(\"nersc_milc_multi_congestion.pdf\")\n",
    "\n",
    "!pdfcrop nersc_milc_multi_congestion.pdf\n",
    "!mv nersc_milc_multi_congestion-crop.pdf nersc_milc_multi_congestion.pdf"
   ]
  }
 ],
 "metadata": {
  "kernelspec": {
   "display_name": "Python 3",
   "language": "python",
   "name": "python3"
  },
  "language_info": {
   "codemirror_mode": {
    "name": "ipython",
    "version": 3
   },
   "file_extension": ".py",
   "mimetype": "text/x-python",
   "name": "python",
   "nbconvert_exporter": "python",
   "pygments_lexer": "ipython3",
   "version": "3.6.1"
  }
 },
 "nbformat": 4,
 "nbformat_minor": 2
}
